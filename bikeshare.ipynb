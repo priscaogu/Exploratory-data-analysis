{
 "cells": [
  {
   "cell_type": "code",
   "execution_count": 21,
   "metadata": {},
   "outputs": [
    {
     "name": "stdout",
     "output_type": "stream",
     "text": [
      "C:\\Users\\Prisca\\Documents\\bikeshare-2-1\n"
     ]
    }
   ],
   "source": [
    "import os\n",
    "print(os.getcwd())"
   ]
  },
  {
   "cell_type": "code",
   "execution_count": 22,
   "metadata": {
    "scrolled": false
   },
   "outputs": [
    {
     "name": "stdout",
     "output_type": "stream",
     "text": [
      "C:\\Users\\Prisca\\Documents\\bikeshare-2-1\n"
     ]
    }
   ],
   "source": [
    "print(os.getcwd())\n",
    "import time\n",
    "import pandas as pd\n",
    "import numpy as np\n",
    "import os\n",
    "import matplotlib.pyplot as plt\n",
    "\n",
    "\n"
   ]
  },
  {
   "cell_type": "code",
   "execution_count": 23,
   "metadata": {},
   "outputs": [],
   "source": [
    "CITY_DATA = {'chicago': 'chicago.csv',\n",
    "             'new york city': 'new_york_city.csv',\n",
    "             'washington': 'washington.csv'}"
   ]
  },
  {
   "cell_type": "code",
   "execution_count": 24,
   "metadata": {},
   "outputs": [],
   "source": [
    "def get_filters():\n",
    "    \"\"\"\n",
    "    Asks user to specify a city, month, and day to analyze.\n",
    "\n",
    "    Returns:\n",
    "        (str) city - name of the city to analyze\n",
    "        (str) month - name of the month to filter by, or \"all\" to apply no month filter\n",
    "        (str) day - name of the day of week to filter by, or \"all\" to apply no day filter\n",
    "    \"\"\"\n",
    "    print('Hello! Let\\'s explore some US bikeshare data!\\n')\n",
    "    # get user input for city (chicago, new york city, washington). HINT: Use a while loop to handle invalid input\n",
    "    cities = ['chicago', 'new york city', 'washington']\n",
    "    while True:\n",
    "        city = input(\"Which of these cities do you want to explore: Chicago, New york city or Washington? \\n>\")\n",
    "        if city.lower() not in cities:\n",
    "            print('wrong option!Type in lower case \\n')\n",
    "        if city.lower() in cities:\n",
    "            break\n",
    "\n",
    "    # get user input for month (all, january, february, ... , june)\n",
    "    months = ['all', 'january', 'february', 'march', 'april', 'may', 'june']\n",
    "    while True:\n",
    "        month = input(\"enter month \\n {} \\n>\".format(months))\n",
    "        if month in months:\n",
    "            break\n",
    "\n",
    "\n",
    "\n",
    "    # get user input for day of week (all, monday, tuesday, ... sunday)\n",
    "\n",
    "    days = ['all', 'monday', 'tuesday', 'wednesday', 'thursday', 'friday', 'sunday']\n",
    "    while True:\n",
    "        day = input(\"enter day \\n {} \\n>\".format(days))\n",
    "        if day in days:\n",
    "            break\n",
    "\n",
    "    print('-' * 40)\n",
    "    return city, month, day"
   ]
  },
  {
   "cell_type": "code",
   "execution_count": 25,
   "metadata": {},
   "outputs": [],
   "source": [
    "def load_data(city, month, day):\n",
    "    \"\"\"\n",
    "    Loads data for the specified city and filters by month and day if applicable.\n",
    "\n",
    "    Args:\n",
    "        (str) city - name of the city to analyze\n",
    "        (str) month - name of the month to filter by, or \"all\" to apply no month filter\n",
    "        (str) day - name of the day of week to filter by, or \"all\" to apply no day filter\n",
    "    Returns:\n",
    "        df - pandas DataFrame containing city data filtered by month and day\n",
    "    \"\"\" # load data file into a dataframe\n",
    "    \n",
    "    df =  pd.read_csv(os.getcwd() + '\\\\' + CITY_DATA.get(city))\n",
    "\n",
    "\n",
    "    # convert the Start Time column to datetime\n",
    "    df[\"Start Time\"] =  pd.to_datetime(df[\"Start Time\"])\n",
    "\n",
    "    # extract month and day of week from Start Time to create new columns\n",
    "    df['month'] = pd.to_datetime(df['Start Time']).dt.month\n",
    "    df['day_of_week'] =  pd.to_datetime(df['Start Time']).dt.day_name()\n",
    "    df['hour'] = df['Start Time'].dt.hour\n",
    "    \n",
    "\n",
    "\n",
    "    # filter by month if applicable\n",
    "    if month != 'all':\n",
    "        # use the index of the months list to get the corresponding int\n",
    "        months = ['all','january', 'february', 'march', 'april', 'may', 'june']\n",
    "        #month =  input('Enter the month'.format(months))\n",
    "        month_index = months.index(month)\n",
    "    \n",
    "        # filter by month to create the new dataframe\n",
    "        df = df[df.month == month_index]\n",
    "\n",
    "    # filter by day of week if applicable\n",
    "    if day != 'all':\n",
    "        # filter by day of week to create the new dataframe\n",
    "        df =  df[(df.day_of_week) == day.title()]\n",
    "    \n",
    "    return df"
   ]
  },
  {
   "cell_type": "code",
   "execution_count": 26,
   "metadata": {},
   "outputs": [],
   "source": [
    "def time_stats(df):\n",
    "    \"\"\"Displays statistics on the most frequent times of travel.\"\"\"\n",
    "\n",
    "    print('\\nCalculating The Most Frequent Times of Travel...\\n')\n",
    "    start_time = time.time()\n",
    "\n",
    "    # display the most common month\n",
    "    modal_month = df['month'].mode()[0]\n",
    "    print('The most common month gotten from the already sorted data is: ', modal_month)\n",
    "    # display the most common day of week\n",
    "    modal_weekday = df['day_of_week'].mode()[0]\n",
    "    print('The most common day of the week gotten from the already sorted data is: ', modal_weekday)\n",
    "\n",
    "    # display the most common start hour\n",
    "    modal_hour = df['hour'].mode()[0]\n",
    "    print('The most common hour gotten from the already sorted data is: ', modal_hour)\n",
    "\n",
    "    print(\"\\nThis took %s seconds.\" % (time.time() - start_time))\n",
    "    print('-'*40)\n",
    "    \n",
    "    \n",
    "\n",
    "    df['hour'].value_counts().plot(kind = 'bar')\n",
    "    plt.xlabel(\"hour\")\n",
    "    plt.ylabel('Frequency distribution')\n",
    "    plt.show()\n",
    "    print(\"It can be seen that the\" , modal_hour ,\" hour is the most popular\")"
   ]
  },
  {
   "cell_type": "code",
   "execution_count": 27,
   "metadata": {},
   "outputs": [],
   "source": [
    "def station_stats(df):\n",
    "    \"\"\"Displays statistics on the most popular stations and trip.\"\"\"\n",
    "\n",
    "    print('\\nCalculating The Most Popular Stations and Trip...\\n')\n",
    "    start_time = time.time()\n",
    "\n",
    "    \n",
    "    most_common_start_station=  df['Start Station'].mode()[0]\n",
    "    print('most commonly used start station', most_common_start_station)\n",
    "    \n",
    "    most_common_end_station = df['End Station'].mode()[0]\n",
    "    print(\"most commonly used end station\" , most_common_end_station)\n",
    "    \n",
    "    \n",
    "    most_frequent_start_and_end_station = df.groupby(['Start Station','End Station']).size().nlargest(1)\n",
    "    print(\"most frequent combination of start\",most_frequent_start_and_end_station)\n",
    "    \n",
    "    print(\"\\nThis took %s seconds.\" % (time.time() - start_time))\n",
    "    print('-'*40)"
   ]
  },
  {
   "cell_type": "code",
   "execution_count": 28,
   "metadata": {},
   "outputs": [],
   "source": [
    "def trip_duration_stats(df):\n",
    "    \"\"\"Displays statistics on the total and average trip duration.\"\"\"\n",
    " \n",
    "    print('\\nCalculating Trip Duration...\\n')\n",
    "    start_time = time.time()\n",
    " \n",
    "\n",
    "    total_travel = df['Trip Duration'].sum()\n",
    "    print(\"Total travel time:\", total_travel)\n",
    " \n",
    "\n",
    "    mean_travel = df['Trip Duration'].mean()\n",
    "    print(\"mean travel time:\", mean_travel)\n",
    " \n",
    "    print(\"\\nThis took %s seconds.\" % (time.time() - start_time))\n",
    "    print('-'*40)"
   ]
  },
  {
   "cell_type": "code",
   "execution_count": null,
   "metadata": {},
   "outputs": [],
   "source": [
    "def user_stats(df):\n",
    "    \"\"\"Displays statistics on bikeshare users.\"\"\"\n",
    " \n",
    "    print('\\nCalculating User Stats...\\n')\n",
    "    start_time = time.time()\n",
    "    \n",
    " #display the counts of user types\n",
    "    user_types = df['User Type'].value_counts()\n",
    "    print(user_types)\n",
    "    user_group = df.groupby('User Type').count()\n",
    "    print(user_group) \n",
    "# Display counts of gender\n",
    "    if 'Gender' in df:\n",
    "        gender = df['Gender'].value_counts()\n",
    "        print(gender)\n",
    "        df['Gender'].value_counts().plot(kind = 'bar')\n",
    "        plt.xlabel(\"Gender\")\n",
    "        plt.ylabel('Frequency distribution')\n",
    "        plt.show()\n",
    "        \n",
    "        \n",
    "        \n",
    "    else:\n",
    "        print(\"There is no gender information in this city.\")\n",
    " \n",
    " \n",
    "# Display earliest, most recent, and most common year of birth\n",
    "    if 'Birth Year' in df:\n",
    "        earliest = df['Birth Year'].min()\n",
    "        print(\"The earliest birth year is\" , earliest)\n",
    "        recent = df['Birth Year'].max()\n",
    "        print(\"The most recent birth  year is\", recent)\n",
    "        common_birth = df['Birth Year'].mode()[0]\n",
    "        print(\"The most common birth year is\" , common_birth)\n",
    "    else:\n",
    "        print(\"There is no birth year information in this city.\")\n",
    " \n",
    "        print(\"\\nThis took %s seconds.\" % (time.time() - start_time))\n",
    "        print('-'*40)"
   ]
  },
  {
   "cell_type": "code",
   "execution_count": null,
   "metadata": {},
   "outputs": [
    {
     "name": "stdout",
     "output_type": "stream",
     "text": [
      "Hello! Let's explore some US bikeshare data!\n",
      "\n",
      "Which of these cities do you want to explore: Chicago, New york city or Washington? \n",
      ">chicago\n",
      "enter month \n",
      " ['all', 'january', 'february', 'march', 'april', 'may', 'june'] \n",
      ">march\n",
      "enter day \n",
      " ['all', 'monday', 'tuesday', 'wednesday', 'thursday', 'friday', 'sunday'] \n",
      ">sunday\n",
      "----------------------------------------\n",
      "\n",
      "Calculating The Most Frequent Times of Travel...\n",
      "\n",
      "The most common month gotten from the already sorted data is:  3\n",
      "The most common day of the week gotten from the already sorted data is:  Sunday\n",
      "The most common hour gotten from the already sorted data is:  15\n",
      "\n",
      "This took 0.009788751602172852 seconds.\n",
      "----------------------------------------\n"
     ]
    },
    {
     "data": {
      "image/png": "[encoded data removed]",
      "text/plain": [
       "<Figure size 432x288 with 1 Axes>"
      ]
     },
     "metadata": {
      "needs_background": "light"
     },
     "output_type": "display_data"
    },
    {
     "name": "stdout",
     "output_type": "stream",
     "text": [
      "It can be seen that the 15  hour is the most popular\n",
      "\n",
      "Calculating The Most Popular Stations and Trip...\n",
      "\n",
      "most commonly used start station Streeter Dr & Grand Ave\n",
      "most commonly used end station Streeter Dr & Grand Ave\n",
      "most frequent combination of start Start Station          End Station       \n",
      "Calumet Ave & 33rd St  State St & 33rd St    9\n",
      "dtype: int64\n",
      "\n",
      "This took 0.021899938583374023 seconds.\n",
      "----------------------------------------\n",
      "\n",
      "Calculating Trip Duration...\n",
      "\n",
      "Total travel time: 2743463\n",
      "mean travel time: 934.103847463398\n",
      "\n",
      "This took 0.0020051002502441406 seconds.\n",
      "----------------------------------------\n",
      "\n",
      "Calculating User Stats...\n",
      "\n",
      "Subscriber    2290\n",
      "Customer       647\n",
      "Name: User Type, dtype: int64\n",
      "            Unnamed: 0  Start Time  End Time  Trip Duration  Start Station  \\\n",
      "User Type                                                                    \n",
      "Customer           647         647       647            647            647   \n",
      "Subscriber        2290        2290      2290           2290           2290   \n",
      "\n",
      "            End Station  Gender  Birth Year  month  day_of_week  hour  \n",
      "User Type                                                              \n",
      "Customer            647       0           0    647          647   647  \n",
      "Subscriber         2290    2290        2290   2290         2290  2290  \n",
      "Male      1640\n",
      "Female     650\n",
      "Name: Gender, dtype: int64\n"
     ]
    },
    {
     "data": {
      "image/png": "[encoded data removed]",
      "text/plain": [
       "<Figure size 432x288 with 1 Axes>"
      ]
     },
     "metadata": {
      "needs_background": "light"
     },
     "output_type": "display_data"
    },
    {
     "name": "stdout",
     "output_type": "stream",
     "text": [
      "1899.0\n",
      "1999.0\n",
      "1989.0\n"
     ]
    }
   ],
   "source": [
    "\n",
    "def main():\n",
    "    while True:\n",
    "        city, month, day = get_filters()\n",
    "        df = load_data(city, month, day)\n",
    "\n",
    "        time_stats(df)\n",
    "        station_stats(df)\n",
    "        trip_duration_stats(df)\n",
    "        user_stats(df)\n",
    "\n",
    "        restart = input('\\nWould you like to restart? Enter yes or no.\\n')\n",
    "        if restart.lower() != 'yes':\n",
    "            break\n",
    "\n",
    "\n",
    "if __name__ == \"__main__\":\n",
    "\tmain()\n"
   ]
  },
  {
   "cell_type": "markdown",
   "metadata": {},
   "source": []
  }
 ],
 "metadata": {
  "kernelspec": {
   "display_name": "Python 3",
   "language": "python",
   "name": "python3"
  },
  "language_info": {
   "codemirror_mode": {
    "name": "ipython",
    "version": 3
   },
   "file_extension": ".py",
   "mimetype": "text/x-python",
   "name": "python",
   "nbconvert_exporter": "python",
   "pygments_lexer": "ipython3",
   "version": "3.8.3"
  }
 },
 "nbformat": 4,
 "nbformat_minor": 4
}
